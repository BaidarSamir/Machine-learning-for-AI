{
 "cells": [
  {
   "cell_type": "code",
   "execution_count": 21,
   "id": "c47c2c43-27ef-4377-a0d0-b53e84eff7a4",
   "metadata": {},
   "outputs": [
    {
     "name": "stdout",
     "output_type": "stream",
     "text": [
      "[1 2 3 4 5 6 7 8 9]\n",
      "array dimension: 2\n",
      "[1 2 3 4 5 6 7 8 9]\n",
      "[1]\n"
     ]
    }
   ],
   "source": [
    "import numpy as np\n",
    "import matplotlib.pyplot as plt\n",
    "import pandas as pd\n",
    "\n",
    "arr=np.arange(1,10)\n",
    "print(arr)\n",
    "\n",
    "\n",
    "arr2=arr.reshape(1,9)\n",
    "print(\"array dimension:\",np.ndim(arr2))\n",
    "\n",
    "print(arr2[0,:])\n",
    "print(arr2[:,0])"
   ]
  },
  {
   "cell_type": "code",
   "execution_count": null,
   "id": "1e78004c-e9b4-4e6e-97e9-914c6e517e26",
   "metadata": {},
   "outputs": [],
   "source": []
  }
 ],
 "metadata": {
  "kernelspec": {
   "display_name": "Python 3 (ipykernel)",
   "language": "python",
   "name": "python3"
  },
  "language_info": {
   "codemirror_mode": {
    "name": "ipython",
    "version": 3
   },
   "file_extension": ".py",
   "mimetype": "text/x-python",
   "name": "python",
   "nbconvert_exporter": "python",
   "pygments_lexer": "ipython3",
   "version": "3.12.3"
  }
 },
 "nbformat": 4,
 "nbformat_minor": 5
}
